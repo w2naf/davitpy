{
 "metadata": {
  "name": "",
  "signature": "sha256:f6e1f7eb1a83827e1c51e699e6396e252c6ef22dfaa30aa4b9010aff3313f395"
 },
 "nbformat": 3,
 "nbformat_minor": 0,
 "worksheets": [
  {
   "cells": [
    {
     "cell_type": "markdown",
     "metadata": {},
     "source": [
      "Radar data read functions\n",
      "==\n",
      "***\n",
      "\n",
      "In this notebook, we will explore how to read radar data. The necessary routines are in `pydarn.sdio`"
     ]
    },
    {
     "cell_type": "code",
     "collapsed": false,
     "input": [
      "import pydarn.sdio\n",
      "import datetime as dt"
     ],
     "language": "python",
     "metadata": {},
     "outputs": [],
     "prompt_number": 1
    },
    {
     "cell_type": "code",
     "collapsed": false,
     "input": [
      "#the first routine we will call is radDataOpen, which\n",
      "#establishes a data piepeline.  we will now set up the args.\n",
      "\n",
      "#sTime is the time we want to start reading (reqd input)\n",
      "sTime = dt.datetime(2011,1,1,1,0)\n",
      "print sTime\n",
      "\n",
      "#rad is the 3-letter radar code for the radar we want (reqd input)\n",
      "rad='bks'\n",
      "\n",
      "#NOTE:the rest of the inputs are optional\n",
      "#eTime is the end time we want to read until\n",
      "eTime = dt.datetime(2011,1,1,2,0)\n",
      "print eTime\n",
      "\n",
      "#channel is the radar channel we want data from\n",
      "#By default this is set to None.\n",
      "#Note: For certain radars, like the UAF radars, the channel must\n",
      "#be explicitly identified such as 'a'.\n",
      "channel=None\n",
      "\n",
      "#bmnum is the beam number we want data from.  by default this is\n",
      "#None, which will read data from all beams\n",
      "bmnum=7\n",
      "\n",
      "#cp is the control program id number which we want data from\n",
      "#by default, this is set to None which reads data from all cpids\n",
      "cp=None\n",
      "\n",
      "#fileType specifies the type of data we want.  valid inputs are\n",
      "#'fitex','fitacf','lmfit','rawacf'.  by default this is 'fitex'\n",
      "#if a fit type is requested but not found, the code will automatically\n",
      "#look for other fit types\n",
      "fileType='fitacf'\n",
      "\n",
      "#filter is a boolean indicating whether to boxcar filter the data.\n",
      "#this is onyl valid for fit types, and wont work on mongo data\n",
      "filtered=False\n",
      "\n",
      "#src is a string indicating the desired data source.  valid\n",
      "#inputs are 'mongo','local','sftp'.  by default this is set to\n",
      "#None which will sequentially try all sources\n",
      "src=None"
     ],
     "language": "python",
     "metadata": {},
     "outputs": [
      {
       "output_type": "stream",
       "stream": "stdout",
       "text": [
        "2011-01-01 01:00:00\n",
        "2011-01-01 02:00:00\n"
       ]
      }
     ],
     "prompt_number": 2
    },
    {
     "cell_type": "code",
     "collapsed": false,
     "input": [
      "# Okay, now lets get the data connection\n",
      "myPtr = pydarn.sdio.radDataOpen(sTime,rad,eTime=eTime,channel=channel,bmnum=bmnum,cp=cp,fileType=fileType,filtered=filtered, src=src)"
     ],
     "language": "python",
     "metadata": {},
     "outputs": [
      {
       "output_type": "stream",
       "stream": "stdout",
       "text": [
        "Found cached file: /tmp/sd/20110101.010000.20110101.020000.bks.fitacf\n"
       ]
      }
     ],
     "prompt_number": 3
    },
    {
     "cell_type": "code",
     "collapsed": false,
     "input": [
      "# Note that the output or radDataOpen is of type radDataPtr\n",
      "# Let's explore its contents\n",
      "\n",
      "for key,val in myPtr.__dict__.iteritems():\n",
      "    print 'myPtr.'+key+' = '+str(val)\n",
      "    "
     ],
     "language": "python",
     "metadata": {},
     "outputs": [
      {
       "output_type": "stream",
       "stream": "stdout",
       "text": [
        "myPtr.bmnum = 7\n",
        "myPtr._radDataPtr__fd = 54\n",
        "myPtr.dType = dmap\n",
        "myPtr.stid = 33\n",
        "myPtr.recordIndex = None\n",
        "myPtr.eTime = 2011-01-01 02:00:00\n",
        "myPtr.fBeam = None\n",
        "myPtr.fType = fitacf\n",
        "myPtr.sTime = 2011-01-01 01:00:00\n",
        "myPtr._radDataPtr__ptr = <open file '<fdopen>', mode 'r' at 0x7f90df274420>\n",
        "myPtr._radDataPtr__nocache = False\n",
        "myPtr._radDataPtr__src = None\n",
        "myPtr.cp = None\n",
        "myPtr._radDataPtr__filtered = False\n",
        "myPtr._radDataPtr__filename = /tmp/sd/20110101.010000.20110101.020000.bks.fitacf\n",
        "myPtr.channel = None\n",
        "myPtr.scanStartIndex = None\n"
       ]
      }
     ],
     "prompt_number": 4
    },
    {
     "cell_type": "code",
     "collapsed": false,
     "input": [
      "# Okay, now that we have our radDataPtr, we can use it to read data\n",
      "# this is done with the command radDataReadRec\n",
      "# this same command can be used for any type of data\n",
      "\n",
      "myBeam = pydarn.sdio.radDataReadRec(myPtr)"
     ],
     "language": "python",
     "metadata": {},
     "outputs": [],
     "prompt_number": 5
    },
    {
     "cell_type": "code",
     "collapsed": false,
     "input": [
      "print myBeam"
     ],
     "language": "python",
     "metadata": {},
     "outputs": [
      {
       "output_type": "stream",
       "stream": "stdout",
       "text": [
        "Beam record FROM: 2011-01-01 01:00:24.789000\n",
        "bmnum  = 7 \n",
        "fPtr  = object \n",
        "fitex  = None \n",
        "fit  = object \n",
        "prm  = object \n",
        "recordDict  = object \n",
        "stid  = 33 \n",
        "lmfit  = None \n",
        "exflg  = None \n",
        "iqflg  = None \n",
        "offset  = 5075345 \n",
        "rawacf  = object \n",
        "lmflg  = None \n",
        "rawflg  = None \n",
        "fType  = fitacf \n",
        "time  = 2011-01-01 01:00:24.789000 \n",
        "acflg  = None \n",
        "cp  = 153 \n",
        "iqdat  = object \n",
        "fitacf  = None \n",
        "channel  = 1 \n",
        "\n"
       ]
      }
     ],
     "prompt_number": 6
    },
    {
     "cell_type": "code",
     "collapsed": false,
     "input": [
      "myBeam.prm.tfreq"
     ],
     "language": "python",
     "metadata": {},
     "outputs": [
      {
       "metadata": {},
       "output_type": "pyout",
       "prompt_number": 8,
       "text": [
        "10954"
       ]
      }
     ],
     "prompt_number": 8
    },
    {
     "cell_type": "code",
     "collapsed": false,
     "input": [
      "myBeam.prm.ltab.shape()"
     ],
     "language": "python",
     "metadata": {},
     "outputs": [
      {
       "ename": "AttributeError",
       "evalue": "'list' object has no attribute 'shape'",
       "output_type": "pyerr",
       "traceback": [
        "\u001b[0;31m---------------------------------------------------------------------------\u001b[0m\n\u001b[0;31mAttributeError\u001b[0m                            Traceback (most recent call last)",
        "\u001b[0;32m<ipython-input-15-5dbff1ab81f0>\u001b[0m in \u001b[0;36m<module>\u001b[0;34m()\u001b[0m\n\u001b[0;32m----> 1\u001b[0;31m \u001b[0mmyBeam\u001b[0m\u001b[0;34m.\u001b[0m\u001b[0mprm\u001b[0m\u001b[0;34m.\u001b[0m\u001b[0mltab\u001b[0m\u001b[0;34m.\u001b[0m\u001b[0mshape\u001b[0m\u001b[0;34m(\u001b[0m\u001b[0;34m)\u001b[0m\u001b[0;34m\u001b[0m\u001b[0m\n\u001b[0m",
        "\u001b[0;31mAttributeError\u001b[0m: 'list' object has no attribute 'shape'"
       ]
      }
     ],
     "prompt_number": 15
    },
    {
     "cell_type": "code",
     "collapsed": false,
     "input": [
      "myBeam.fit.phi0"
     ],
     "language": "python",
     "metadata": {},
     "outputs": [
      {
       "metadata": {},
       "output_type": "pyout",
       "prompt_number": 25,
       "text": [
        "[-1.9876309633255005,\n",
        " -2.6518728733062744,\n",
        " 0.0,\n",
        " -2.819774627685547,\n",
        " -2.598233699798584,\n",
        " -2.433204174041748,\n",
        " -2.9875330924987793,\n",
        " -3.0199666023254395,\n",
        " -2.9958102703094482,\n",
        " -3.035869836807251,\n",
        " 2.8393986225128174,\n",
        " 1.4915300607681274]"
       ]
      }
     ],
     "prompt_number": 25
    },
    {
     "cell_type": "code",
     "collapsed": false,
     "input": [
      "bb"
     ],
     "language": "python",
     "metadata": {},
     "outputs": [
      {
       "metadata": {},
       "output_type": "pyout",
       "prompt_number": 21,
       "text": [
        "[5, 9, 5, 14, 13, 13, 17, 18, 17, 7, 5, 6]"
       ]
      }
     ],
     "prompt_number": 21
    },
    {
     "cell_type": "code",
     "collapsed": false,
     "input": [],
     "language": "python",
     "metadata": {},
     "outputs": []
    }
   ],
   "metadata": {}
  }
 ]
}