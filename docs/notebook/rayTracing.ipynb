{
 "metadata": {
  "name": "",
  "signature": "sha256:961da0c47ea5e2e73c5bd9bfe9b09d83b420ffa30d69c062d38293b2059d126f"
 },
 "nbformat": 3,
 "nbformat_minor": 0,
 "worksheets": [
  {
   "cells": [
    {
     "cell_type": "markdown",
     "metadata": {},
     "source": [
      "Ray-tracing model\n",
      "==\n",
      "***\n",
      "\n",
      "This notebook illustrate how to use the ray-tracing included with DaViTpy"
     ]
    },
    {
     "cell_type": "code",
     "collapsed": false,
     "input": [
      "import datetime as dt\n",
      "from models import raydarn"
     ],
     "language": "python",
     "metadata": {},
     "outputs": [],
     "prompt_number": 1
    },
    {
     "cell_type": "code",
     "collapsed": false,
     "input": [
      "sTime = dt.datetime(2006, 2, 22, 22)\n",
      "eTime = dt.datetime(2006, 2, 23, 1)\n",
      "radar = 'wal'\n",
      "beam = 3\n",
      "freq = 10.5"
     ],
     "language": "python",
     "metadata": {},
     "outputs": [],
     "prompt_number": 2
    },
    {
     "cell_type": "code",
     "collapsed": false,
     "input": [
      "# Run the ray tracing for the specified period, radar, beam and frequency\n",
      "# Use 4 threads (MPI) and output everything to /tmp\n",
      "rto = raydarn.RtRun(sTime, eTime, \n",
      "    rCode=radar, beam=beam, freq=freq, \n",
      "    outDir='/tmp', nprocs=2)"
     ],
     "language": "python",
     "metadata": {},
     "outputs": [],
     "prompt_number": 3
    },
    {
     "cell_type": "code",
     "collapsed": false,
     "input": [
      "# Read rays into memory\n",
      "rto.readRays()\n",
      "# Read electron densities into memory\n",
      "rto.readEdens()"
     ],
     "language": "python",
     "metadata": {},
     "outputs": []
    },
    {
     "cell_type": "code",
     "collapsed": false,
     "input": [
      "# Plot rays and electron densities together\n",
      "# Plot at start time\n",
      "# Plot range markers (every 250 km)\n",
      "figure(figsize=(15,5))\n",
      "rcParams.update({'font.size': 14})\n",
      "\n",
      "ax, aax, cbax = rto.ionos.plot(sTime)\n",
      "ax, aax, cbax = rto.rays.plot(sTime, \n",
      "    step=10, ax=ax, aax=aax)\n",
      "rto.rays.showRange()\n",
      "\n",
      "ax.grid()"
     ],
     "language": "python",
     "metadata": {},
     "outputs": []
    },
    {
     "cell_type": "code",
     "collapsed": false,
     "input": [],
     "language": "python",
     "metadata": {},
     "outputs": []
    }
   ],
   "metadata": {}
  }
 ]
}